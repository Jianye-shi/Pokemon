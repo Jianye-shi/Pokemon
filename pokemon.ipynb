{
 "metadata": {
  "kernelspec": {
   "language": "python",
   "display_name": "Python 3",
   "name": "python3"
  },
  "language_info": {
   "name": "python",
   "version": "3.10.14",
   "mimetype": "text/x-python",
   "codemirror_mode": {
    "name": "ipython",
    "version": 3
   },
   "pygments_lexer": "ipython3",
   "nbconvert_exporter": "python",
   "file_extension": ".py"
  },
  "kaggle": {
   "accelerator": "none",
   "dataSources": [],
   "dockerImageVersionId": 30786,
   "isInternetEnabled": true,
   "language": "python",
   "sourceType": "notebook",
   "isGpuEnabled": false
  }
 },
 "nbformat_minor": 4,
 "nbformat": 4,
 "cells": [
  {
   "cell_type": "markdown",
   "source": "Get pokemon data from pokeAPI",
   "metadata": {}
  },
  {
   "cell_type": "code",
   "source": [
    "import requests\n",
    "import json\n",
    "import os\n",
    "\n",
    "# 定义保存图片的目录\n",
    "save_directory = \"data/pokemon_images\"\n",
    "os.makedirs(save_directory, exist_ok=True)\n",
    "\n",
    "# 获取所有宝可梦的基本信息\n",
    "url = \"https://pokeapi.co/api/v2/pokemon?limit=10000\"\n",
    "response = requests.get(url)\n",
    "data = response.json()\n",
    "\n",
    "# 创建一个字典来存储宝可梦的名称和属性\n",
    "pokemon_info = {}\n",
    "\n",
    "# 遍历每个宝可梦\n",
    "for pokemon in data['results']:\n",
    "    pokemon_name = pokemon['name']\n",
    "    pokemon_url = pokemon['url']\n",
    "    response = requests.get(pokemon_url)\n",
    "    pokemon_data = response.json()\n",
    "\n",
    "    # 获取宝可梦的属性\n",
    "    types = pokemon_data['types']\n",
    "    type_names = [type_info['type']['name'] for type_info in types]\n",
    "\n",
    "    # 获取宝可梦的图片链接\n",
    "    pic1_url = pokemon_data['sprites']['other']['official-artwork']['front_default']\n",
    "    pic2_url = pokemon_data['sprites']['other']['home']['front_default']\n",
    "    pic3_url = pokemon_data['sprites']['front_default']\n",
    "\n",
    "    # 下载并保存图片\n",
    "    for i, pic_url in enumerate([pic1_url, pic2_url, pic3_url], start=1):\n",
    "        if pic_url:\n",
    "            img_response = requests.get(pic_url)\n",
    "            if img_response.status_code == 200:\n",
    "                img_name = f\"{pokemon_name}_pic{i}.png\"\n",
    "                img_path = os.path.join(save_directory, img_name)\n",
    "                with open(img_path, 'wb') as file:\n",
    "                    file.write(img_response.content)\n",
    "\n",
    "    # 将宝可梦的名称和属性存储到字典中\n",
    "    pokemon_info[pokemon_name] = {\n",
    "        \"types\": type_names,\n",
    "        \"images\": [os.path.join(save_directory, f\"{pokemon_name}_pic{i}.png\") for i in range(1, 4) if eval(f\"pic{i}_url\")]\n",
    "    }\n",
    "\n",
    "# 将字典转换为 JSON 格式并保存到文件中\n",
    "with open('data/pokemon_info.json', 'w') as json_file:\n",
    "    json.dump(pokemon_info, json_file, indent=4)\n",
    "\n",
    "print(f\"所有宝可梦的名称和属性已保存到 pokemon_info.json 文件中，图片保存在 {save_directory} 目录中。\")"
   ],
   "metadata": {
    "trusted": true,
    "execution": {
     "iopub.status.busy": "2024-12-07T08:33:30.775191Z",
     "iopub.execute_input": "2024-12-07T08:33:30.775637Z",
     "iopub.status.idle": "2024-12-07T08:45:52.057371Z",
     "shell.execute_reply.started": "2024-12-07T08:33:30.775598Z",
     "shell.execute_reply": "2024-12-07T08:45:52.056120Z"
    },
    "ExecuteTime": {
     "end_time": "2024-12-07T11:10:54.846644Z",
     "start_time": "2024-12-07T10:28:55.014281Z"
    }
   },
   "outputs": [
    {
     "name": "stdout",
     "output_type": "stream",
     "text": [
      "所有宝可梦的名称和属性已保存到 pokemon_info.json 文件中，图片保存在 data/pokemon_images 目录中。\n"
     ]
    }
   ],
   "execution_count": 1
  }
 ]
}
