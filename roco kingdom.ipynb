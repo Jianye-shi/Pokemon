{
 "cells": [
  {
   "cell_type": "code",
   "execution_count": null,
   "metadata": {},
   "outputs": [],
   "source": [
    "from selenium import webdriver\n",
    "from selenium.webdriver.common.by import By\n",
    "from selenium.webdriver.support.ui import WebDriverWait\n",
    "from selenium.webdriver.support import expected_conditions as EC\n",
    "from selenium.webdriver.chrome.options import Options\n",
    "from bs4 import BeautifulSoup\n",
    "\n",
    "import time\n",
    "import pandas as pd\n",
    "import os\n",
    "import urllib.request"
   ]
  },
  {
   "cell_type": "code",
   "execution_count": null,
   "metadata": {},
   "outputs": [],
   "source": [
    "url = 'https://rocokingdom.huijiwiki.com/wiki/%E5%AE%A0%E7%89%A9%E5%9B%BE%E9%89%B4'\n",
    "\n",
    "def open_driver(url):\n",
    "    options = webdriver.ChromeOptions()\n",
    "    options.add_experimental_option('excludeSwitches', ['enable-logging']) # for ignore warning and error\n",
    "    driver = webdriver.Chrome(options=options)\n",
    "    driver.get(url)\n",
    "    return driver\n"
   ]
  },
  {
   "cell_type": "markdown",
   "metadata": {},
   "source": [
    "###  roco_kingdom_data_year.txt\n",
    "####  colnames: 'No.', 'Name', 'Elements'"
   ]
  },
  {
   "cell_type": "code",
   "execution_count": 109,
   "metadata": {},
   "outputs": [
    {
     "name": "stderr",
     "output_type": "stream",
     "text": [
      "The chromedriver version (130.0.6723.58) detected in PATH at /usr/local/bin/chromedriver might not be compatible with the detected chrome version (131.0.6778.109); currently, chromedriver 131.0.6778.87 is recommended for chrome 131.*, so it is advised to delete the driver in PATH and retry\n"
     ]
    }
   ],
   "source": [
    "year=2014\n",
    "i=year-2008\n",
    "\n",
    "driver = open_driver(url)\n",
    "per_year_button = WebDriverWait(driver, 10).until(\n",
    "    EC.presence_of_element_located((By.XPATH,f'/html/body/div[2]/div/div[1]/main/article/section[1]/div/div/div/div[2]/div/div/div[{i}]'))\n",
    ")\n",
    "per_year_button.click()\n",
    "\n",
    "WebDriverWait(driver, 30).until(\n",
    "    EC.invisibility_of_element_located((By.XPATH, \"//div[@class='pet-name' and text()='苦行骆驼']\")))\n",
    "\n",
    "\n",
    "time.sleep(10)\n",
    "WebDriverWait(driver, 10).until(\n",
    "    EC.presence_of_element_located((By.CLASS_NAME, \"pet-card\")))\n",
    "# time.sleep(10)\n",
    "\n",
    "page_source = driver.page_source\n",
    "soup = BeautifulSoup(page_source, 'html.parser')\n",
    "pet_cards = soup.find_all(class_=\"pet-card\")\n",
    "\n",
    "names = []\n",
    "numbers = []\n",
    "elements = []\n",
    "for pet_card in pet_cards:\n",
    "    number = pet_card.find('div', class_='pet-title huiji-tt').get('data-name')\n",
    "    name = pet_card.find('div', class_='pet-name').text\n",
    "    element = [img.get('title') for img in pet_card.find_all('img')]\n",
    "    element = element[1:len(element)-1]\n",
    "    element = [x for x in element if x is not None]\n",
    "    element = '，'.join(element)\n",
    "    names.append(name)\n",
    "    numbers.append(number)\n",
    "    elements.append(element)\n",
    "\n",
    "df = pd.DataFrame({'No.': numbers,\n",
    "                    'Name': names,\n",
    "                    'Elements': elements })\n",
    "    \n",
    "    # encoding problem\n",
    "    # csv_file_path = 'roco_kingdom_data_2010.csv'\n",
    "    # df.to_csv(csv_file_path, index=False, encoding='utf-8') \n",
    "\n",
    "txt_file_path = f'roco_kingdom_data_{year}.txt'\n",
    "df.to_csv(txt_file_path, index=False, sep='\\t', encoding='utf-8')\n",
    "\n"
   ]
  },
  {
   "cell_type": "markdown",
   "metadata": {},
   "source": [
    "### Images files\n",
    "#### images_year/No._name.png\n"
   ]
  },
  {
   "cell_type": "code",
   "execution_count": 76,
   "metadata": {},
   "outputs": [],
   "source": [
    "import urllib.request"
   ]
  },
  {
   "cell_type": "code",
   "execution_count": null,
   "metadata": {},
   "outputs": [
    {
     "name": "stderr",
     "output_type": "stream",
     "text": [
      "The chromedriver version (130.0.6723.58) detected in PATH at /usr/local/bin/chromedriver might not be compatible with the detected chrome version (131.0.6778.109); currently, chromedriver 131.0.6778.87 is recommended for chrome 131.*, so it is advised to delete the driver in PATH and retry\n"
     ]
    },
    {
     "name": "stdout",
     "output_type": "stream",
     "text": [
      "download: No.1220_圣藤草王.png\n",
      "download: No.1219_金藤狂战.png\n",
      "download: No.1218_金藤勇士.png\n",
      "download: No.1217_金藤宝宝.png\n",
      "download: No.1215_紫蔓守护.png\n",
      "download: No.1214_紫蔓祭祀.png\n",
      "download: No.1213_紫蔓宝宝.png\n",
      "download: No.1252_水晶巨人.png\n",
      "download: No.1251_水晶守卫.png\n",
      "download: No.1250_晶灵.png\n",
      "download: No.68_卡布托.png\n",
      "download: No.1246_新年飞比.png\n",
      "download: No.1245_万寿芝灵.png\n",
      "download: No.1244_宝芝灵.png\n",
      "download: No.1243_小芝灵.png\n",
      "download: No.1242_转世灵菇.png\n",
      "download: No.1241_幽灵菇.png\n",
      "download: No.1240_小灵菇.png\n",
      "download: No.1229_ 耳朵.png\n",
      "download: No.1228_长耳兔.png\n",
      "download: No.1227_红小兔.png\n",
      "download: No.1226_小白.png\n",
      "download: No.1225_小小白.png\n",
      "download: No.1224_白宝宝.png\n",
      "download: No.1239_千年雪莲.png\n",
      "download: No.1238_莲依依.png\n",
      "download: No.1235_火麒麟.png\n",
      "download: No.1234_麒麟.png\n",
      "download: No.1233_火精灵.png\n",
      "download: No.1232_利爪黑熊.png\n",
      "download: No.1231_黑熊.png\n",
      "download: No.1230_小黑熊.png\n",
      "download: No.1237_不死之参.png\n",
      "download: No.1236_参果果.png\n"
     ]
    }
   ],
   "source": [
    "year=2014\n",
    "i=year-2008\n",
    "\n",
    "url = 'https://rocokingdom.huijiwiki.com/wiki/%E5%AE%A0%E7%89%A9%E5%9B%BE%E9%89%B4'\n",
    "\n",
    "# Terminal: /Applications/Google\\ Chrome.app/Contents/MacOS/Google\\ Chrome --remote-debugging-port=9222\n",
    "def create_driver():\n",
    "    chrome_options = Options()\n",
    "    chrome_options.add_experimental_option(\"debuggerAddress\", \"127.0.0.1:9222\")\n",
    "    driver = webdriver.Chrome(options=chrome_options)\n",
    "    return driver\n",
    "\n",
    "driver = create_driver()\n",
    "driver.get(url)\n",
    "time.sleep(2)\n",
    "opener = urllib.request.build_opener()\n",
    "opener.addheaders = [('User-Agent', 'Mozilla/5.0 (Windows NT 10.0; Win64; x64) AppleWebKit/537.36 (KHTML, like Gecko) Chrome/91.0.4472.124 Safari/537.36')]\n",
    "urllib.request.install_opener(opener)\n",
    "\n",
    "per_year_button = WebDriverWait(driver, 10).until(\n",
    "    EC.presence_of_element_located((By.XPATH,f'/html/body/div[2]/div/div[1]/main/article/section[1]/div/div/div/div[2]/div/div/div[{i}]'))\n",
    ")\n",
    "per_year_button.click()\n",
    "\n",
    "WebDriverWait(driver, 30).until(\n",
    "    EC.invisibility_of_element_located((By.XPATH, \"//div[@class='pet-name' and text()='苦行骆驼']\")))\n",
    "\n",
    "time.sleep(10)\n",
    "WebDriverWait(driver, 10).until(\n",
    "    EC.presence_of_element_located((By.CLASS_NAME, \"pet-card\")))\n",
    "\n",
    "page_source = driver.page_source\n",
    "soup = BeautifulSoup(page_source, 'html.parser')\n",
    "pet_cards = soup.find_all(class_=\"pet-card\")\n",
    "\n",
    "for pet_card in pet_cards[len(pet_cards)-34:]:\n",
    "    number = pet_card.find('div', class_='pet-title huiji-tt').get('data-name')\n",
    "    name = pet_card.find('div', class_='pet-name').text\n",
    "    image_url = pet_card.find('img', alt=True)\n",
    "    high_res_url = image_url['srcset'].split(' ')[0]\n",
    "    urllib.request.urlretrieve(high_res_url, f'images_{year}/No.{number}_{name}.png')\n",
    "    print(f\"download: No.{number}_{name}.png\")\n"
   ]
  }
 ],
 "metadata": {
  "kernelspec": {
   "display_name": "base",
   "language": "python",
   "name": "python3"
  },
  "language_info": {
   "codemirror_mode": {
    "name": "ipython",
    "version": 3
   },
   "file_extension": ".py",
   "mimetype": "text/x-python",
   "name": "python",
   "nbconvert_exporter": "python",
   "pygments_lexer": "ipython3",
   "version": "3.11.5"
  }
 },
 "nbformat": 4,
 "nbformat_minor": 2
}
